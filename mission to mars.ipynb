{
 "cells": [
  {
   "cell_type": "markdown",
   "metadata": {},
   "source": [
    "# NASA Mars News"
   ]
  },
  {
   "cell_type": "code",
   "execution_count": 1,
   "metadata": {},
   "outputs": [],
   "source": [
    "# Dependencies\n",
    "from splinter import Browser\n",
    "from bs4 import BeautifulSoup as bs\n",
    "import pandas as pd\n",
    "from selenium import webdriver\n",
    "import requests\n",
    "\n",
    "\n",
    "    "
   ]
  },
  {
   "cell_type": "code",
   "execution_count": 109,
   "metadata": {},
   "outputs": [],
   "source": [
    "def title_scrape():\n",
    "    \n",
    "    data = {}\n",
    "    url = 'https://mars.nasa.gov/news/'\n",
    "    response = requests.get(url)  # Retrieve page with the requests module\n",
    "    soup = bs(response.text, 'html.parser') # Create BeautifulSoup object; parse with 'html.parser'\n",
    "    \n",
    "    #collect the latest News Title and Paragragh Text.\n",
    "    data['title'] = soup.find('div',class_='content_title').find('a').text\n",
    "\n",
    "    data['paragraph'] = soup.find('div',class_='rollover_description_inner').text\n",
    "\n",
    "    \n",
    "    return (data)"
   ]
  },
  {
   "cell_type": "code",
   "execution_count": 110,
   "metadata": {},
   "outputs": [
    {
     "data": {
      "text/plain": [
       "{'paragraph': '\\nNASA and the Department of Energy’s National Nuclear Security Administration (NNSA) have successfully demonstrated a new nuclear reactor power system that could enable long-duration crewed missions to the Moon, Mars and destinations beyond.\\n',\n",
       " 'title': '\\nDemonstration Proves Nuclear Fission System Can Provide Space Exploration Power\\n'}"
      ]
     },
     "execution_count": 110,
     "metadata": {},
     "output_type": "execute_result"
    }
   ],
   "source": [
    "title_scrape()"
   ]
  },
  {
   "cell_type": "markdown",
   "metadata": {},
   "source": [
    "# JPL Mars Space Images - Featured Image"
   ]
  },
  {
   "cell_type": "code",
   "execution_count": 120,
   "metadata": {},
   "outputs": [],
   "source": [
    "def image_link():\n",
    "    executable_path = {'executable_path': 'chromedriver.exe'}\n",
    "    browser = Browser('chrome', **executable_path, headless=False)\n",
    "    url = 'https://www.jpl.nasa.gov/spaceimages/?search=&category=Mars'\n",
    "    browser.visit(url)\n",
    "    browser.find_link_by_partial_text('FULL').first.click()\n",
    "    html = browser.html\n",
    "    \n",
    "    soup = bs(html, 'html.parser')\n",
    "\n",
    "    #print (soup.prettify())\n",
    "\n",
    "    image =  soup.find('a',class_='button')\n",
    "\n",
    "\n",
    "    link = image['data-link']\n",
    "\n",
    "    image_url = 'https://www.jpl.nasa.gov' + str(link)\n",
    "\n",
    "    browser.visit(image_url)\n",
    "\n",
    "    html2 = browser.html\n",
    "    soup2 = bs(html2, 'html.parser')\n",
    "\n",
    "    jpeg_image = soup2.find('figure',class_='lede')\n",
    "    \n",
    "    final_jpeg = jpeg_image.a['href']\n",
    "\n",
    "    featured_image_url = 'https://www.jpl.nasa.gov' + str(final_jpeg)\n",
    "\n",
    "    return (featured_image_url)\n"
   ]
  },
  {
   "cell_type": "code",
   "execution_count": 121,
   "metadata": {},
   "outputs": [
    {
     "data": {
      "text/plain": [
       "'https://www.jpl.nasa.gov/spaceimages/images/largesize/PIA16469_hires.jpg'"
      ]
     },
     "execution_count": 121,
     "metadata": {},
     "output_type": "execute_result"
    }
   ],
   "source": [
    "image_link()"
   ]
  },
  {
   "cell_type": "markdown",
   "metadata": {},
   "source": [
    "# Mars Weather Data from Twitter"
   ]
  },
  {
   "cell_type": "code",
   "execution_count": 11,
   "metadata": {},
   "outputs": [
    {
     "data": {
      "text/plain": [
       "{'today': 'Sol 2062 (May 25, 2018), Sunny, high 2C/35F, low -72C/-97F, pressure at 7.45 hPa, daylight 05:19-17:20'}"
      ]
     },
     "execution_count": 11,
     "metadata": {},
     "output_type": "execute_result"
    }
   ],
   "source": [
    "def tweet_response():\n",
    "    weather = {}\n",
    "    weather_response = requests.get('https://twitter.com/marswxreport?lang=en')\n",
    "    soup3 = bs(weather_response.text, 'html.parser')\n",
    "\n",
    "    weather_result = soup3.find(class_=\"content\")\n",
    "\n",
    "    weather['today'] = weather_result.find('p', class_=\"TweetTextSize\").text\n",
    "\n",
    "    return(weather)\n",
    "\n",
    "tweet_response()\n"
   ]
  },
  {
   "cell_type": "markdown",
   "metadata": {},
   "source": [
    "# Mars Facts"
   ]
  },
  {
   "cell_type": "code",
   "execution_count": 2,
   "metadata": {},
   "outputs": [
    {
     "data": {
      "text/plain": [
       "'<table border=\"1\" class=\"dataframe\">\\n  <thead>\\n    <tr style=\"text-align: right;\">\\n      <th></th>\\n      <th>Values</th>\\n    </tr>\\n    <tr>\\n      <th>Parameters</th>\\n      <th></th>\\n    </tr>\\n  </thead>\\n  <tbody>\\n    <tr>\\n      <th>Equatorial Diameter:</th>\\n      <td>6,792 km</td>\\n    </tr>\\n    <tr>\\n      <th>Polar Diameter:</th>\\n      <td>6,752 km</td>\\n    </tr>\\n    <tr>\\n      <th>Mass:</th>\\n      <td>6.42 x 10^23 kg (10.7% Earth)</td>\\n    </tr>\\n    <tr>\\n      <th>Moons:</th>\\n      <td>2 (Phobos &amp; Deimos)</td>\\n    </tr>\\n    <tr>\\n      <th>Orbit Distance:</th>\\n      <td>227,943,824 km (1.52 AU)</td>\\n    </tr>\\n    <tr>\\n      <th>Orbit Period:</th>\\n      <td>687 days (1.9 years)</td>\\n    </tr>\\n    <tr>\\n      <th>Surface Temperature:</th>\\n      <td>-153 to 20 °C</td>\\n    </tr>\\n    <tr>\\n      <th>First Record:</th>\\n      <td>2nd millennium BC</td>\\n    </tr>\\n    <tr>\\n      <th>Recorded By:</th>\\n      <td>Egyptian astronomers</td>\\n    </tr>\\n  </tbody>\\n</table>'"
      ]
     },
     "execution_count": 2,
     "metadata": {},
     "output_type": "execute_result"
    }
   ],
   "source": [
    "def table_data():\n",
    "    url = 'http://space-facts.com/mars/'\n",
    "    table = pd.read_html(url)\n",
    "    table_df = table[0]\n",
    "    table_df.columns = ['Parameters' , 'Values']\n",
    "    table_df.set_index('Parameters', inplace = True)\n",
    "    html_table = table_df.to_html()\n",
    "\n",
    "    return (html_table)\n",
    "\n",
    "table_data()"
   ]
  },
  {
   "cell_type": "code",
   "execution_count": null,
   "metadata": {},
   "outputs": [],
   "source": []
  }
 ],
 "metadata": {
  "kernelspec": {
   "display_name": "Python [conda env:PythonData]",
   "language": "python",
   "name": "conda-env-PythonData-py"
  },
  "language_info": {
   "codemirror_mode": {
    "name": "ipython",
    "version": 3
   },
   "file_extension": ".py",
   "mimetype": "text/x-python",
   "name": "python",
   "nbconvert_exporter": "python",
   "pygments_lexer": "ipython3",
   "version": "3.6.4"
  }
 },
 "nbformat": 4,
 "nbformat_minor": 2
}
